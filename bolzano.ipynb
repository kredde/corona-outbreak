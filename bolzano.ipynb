{
 "cells": [
  {
   "cell_type": "markdown",
   "metadata": {},
   "source": [
    "# Covid-19 Outbreak Analysis Italian Provinces\n"
   ]
  },
  {
   "cell_type": "code",
   "execution_count": 1,
   "metadata": {},
   "outputs": [
    {
     "name": "stdout",
     "output_type": "stream",
     "text": [
      "Updated at (UTC Time): 2020-03-20 18:33:22.845973\n"
     ]
    }
   ],
   "source": [
    "import pandas as pd\n",
    "from pandas.plotting import register_matplotlib_converters\n",
    "import numpy as np\n",
    "import seaborn as sns\n",
    "sns.set(style=\"whitegrid\")\n",
    "import matplotlib.pyplot as plt\n",
    "import matplotlib.dates as mdates\n",
    "from datetime import datetime\n",
    "%matplotlib inline\n",
    "register_matplotlib_converters()\n",
    "\n",
    "now = datetime.now()\n",
    "print(\"Updated at (UTC Time):\", now)"
   ]
  },
  {
   "cell_type": "markdown",
   "metadata": {},
   "source": [
    "## Data of italian provinces\n",
    "Read data and preprocess"
   ]
  },
  {
   "cell_type": "code",
   "execution_count": 2,
   "metadata": {},
   "outputs": [
    {
     "name": "stdout",
     "output_type": "stream",
     "text": [
      "27820\n"
     ]
    },
    {
     "data": {
      "text/html": [
       "<div>\n",
       "<style scoped>\n",
       "    .dataframe tbody tr th:only-of-type {\n",
       "        vertical-align: middle;\n",
       "    }\n",
       "\n",
       "    .dataframe tbody tr th {\n",
       "        vertical-align: top;\n",
       "    }\n",
       "\n",
       "    .dataframe thead th {\n",
       "        text-align: right;\n",
       "    }\n",
       "</style>\n",
       "<table border=\"1\" class=\"dataframe\">\n",
       "  <thead>\n",
       "    <tr style=\"text-align: right;\">\n",
       "      <th></th>\n",
       "      <th>data</th>\n",
       "      <th>stato</th>\n",
       "      <th>codice_regione</th>\n",
       "      <th>denominazione_regione</th>\n",
       "      <th>codice_provincia</th>\n",
       "      <th>denominazione_provincia</th>\n",
       "      <th>sigla_provincia</th>\n",
       "      <th>lat</th>\n",
       "      <th>long</th>\n",
       "      <th>totale_casi</th>\n",
       "      <th>date</th>\n",
       "    </tr>\n",
       "  </thead>\n",
       "  <tbody>\n",
       "    <tr>\n",
       "      <th>0</th>\n",
       "      <td>2020-02-24 18:00:00</td>\n",
       "      <td>ITA</td>\n",
       "      <td>13</td>\n",
       "      <td>Abruzzo</td>\n",
       "      <td>69</td>\n",
       "      <td>Chieti</td>\n",
       "      <td>CH</td>\n",
       "      <td>42.351032</td>\n",
       "      <td>14.167546</td>\n",
       "      <td>0</td>\n",
       "      <td>2020-02-24 18:00:00</td>\n",
       "    </tr>\n",
       "    <tr>\n",
       "      <th>1</th>\n",
       "      <td>2020-02-24 18:00:00</td>\n",
       "      <td>ITA</td>\n",
       "      <td>13</td>\n",
       "      <td>Abruzzo</td>\n",
       "      <td>66</td>\n",
       "      <td>L'Aquila</td>\n",
       "      <td>AQ</td>\n",
       "      <td>42.351222</td>\n",
       "      <td>13.398438</td>\n",
       "      <td>0</td>\n",
       "      <td>2020-02-24 18:00:00</td>\n",
       "    </tr>\n",
       "    <tr>\n",
       "      <th>2</th>\n",
       "      <td>2020-02-24 18:00:00</td>\n",
       "      <td>ITA</td>\n",
       "      <td>13</td>\n",
       "      <td>Abruzzo</td>\n",
       "      <td>68</td>\n",
       "      <td>Pescara</td>\n",
       "      <td>PE</td>\n",
       "      <td>42.464584</td>\n",
       "      <td>14.213648</td>\n",
       "      <td>0</td>\n",
       "      <td>2020-02-24 18:00:00</td>\n",
       "    </tr>\n",
       "    <tr>\n",
       "      <th>3</th>\n",
       "      <td>2020-02-24 18:00:00</td>\n",
       "      <td>ITA</td>\n",
       "      <td>13</td>\n",
       "      <td>Abruzzo</td>\n",
       "      <td>67</td>\n",
       "      <td>Teramo</td>\n",
       "      <td>TE</td>\n",
       "      <td>42.658918</td>\n",
       "      <td>13.704400</td>\n",
       "      <td>0</td>\n",
       "      <td>2020-02-24 18:00:00</td>\n",
       "    </tr>\n",
       "    <tr>\n",
       "      <th>5</th>\n",
       "      <td>2020-02-24 18:00:00</td>\n",
       "      <td>ITA</td>\n",
       "      <td>17</td>\n",
       "      <td>Basilicata</td>\n",
       "      <td>77</td>\n",
       "      <td>Matera</td>\n",
       "      <td>MT</td>\n",
       "      <td>40.667512</td>\n",
       "      <td>16.597924</td>\n",
       "      <td>0</td>\n",
       "      <td>2020-02-24 18:00:00</td>\n",
       "    </tr>\n",
       "  </tbody>\n",
       "</table>\n",
       "</div>"
      ],
      "text/plain": [
       "                  data stato  codice_regione denominazione_regione  \\\n",
       "0  2020-02-24 18:00:00   ITA              13               Abruzzo   \n",
       "1  2020-02-24 18:00:00   ITA              13               Abruzzo   \n",
       "2  2020-02-24 18:00:00   ITA              13               Abruzzo   \n",
       "3  2020-02-24 18:00:00   ITA              13               Abruzzo   \n",
       "5  2020-02-24 18:00:00   ITA              17            Basilicata   \n",
       "\n",
       "   codice_provincia denominazione_provincia sigla_provincia        lat  \\\n",
       "0                69                  Chieti              CH  42.351032   \n",
       "1                66                L'Aquila              AQ  42.351222   \n",
       "2                68                 Pescara              PE  42.464584   \n",
       "3                67                  Teramo              TE  42.658918   \n",
       "5                77                  Matera              MT  40.667512   \n",
       "\n",
       "        long  totale_casi                date  \n",
       "0  14.167546            0 2020-02-24 18:00:00  \n",
       "1  13.398438            0 2020-02-24 18:00:00  \n",
       "2  14.213648            0 2020-02-24 18:00:00  \n",
       "3  13.704400            0 2020-02-24 18:00:00  \n",
       "5  16.597924            0 2020-02-24 18:00:00  "
      ]
     },
     "execution_count": 2,
     "metadata": {},
     "output_type": "execute_result"
    }
   ],
   "source": [
    "url = 'https://raw.githubusercontent.com/pcm-dpc/COVID-19/master/dati-province/dpc-covid19-ita-province.csv'\n",
    "df = pd.read_csv(url)\n",
    "df = df[df['denominazione_provincia'] != 'In fase di definizione/aggiornamento']\n",
    "print(df.size)\n",
    "df['date'] = pd.to_datetime(df['data'])\n",
    "df.head()\n"
   ]
  },
  {
   "cell_type": "markdown",
   "metadata": {},
   "source": [
    "## Data of Province Bolzano"
   ]
  },
  {
   "cell_type": "code",
   "execution_count": 3,
   "metadata": {},
   "outputs": [
    {
     "data": {
      "text/html": [
       "<div>\n",
       "<style scoped>\n",
       "    .dataframe tbody tr th:only-of-type {\n",
       "        vertical-align: middle;\n",
       "    }\n",
       "\n",
       "    .dataframe tbody tr th {\n",
       "        vertical-align: top;\n",
       "    }\n",
       "\n",
       "    .dataframe thead th {\n",
       "        text-align: right;\n",
       "    }\n",
       "</style>\n",
       "<table border=\"1\" class=\"dataframe\">\n",
       "  <thead>\n",
       "    <tr style=\"text-align: right;\">\n",
       "      <th></th>\n",
       "      <th>data</th>\n",
       "      <th>stato</th>\n",
       "      <th>codice_regione</th>\n",
       "      <th>denominazione_regione</th>\n",
       "      <th>codice_provincia</th>\n",
       "      <th>denominazione_provincia</th>\n",
       "      <th>sigla_provincia</th>\n",
       "      <th>lat</th>\n",
       "      <th>long</th>\n",
       "      <th>totale_casi</th>\n",
       "      <th>date</th>\n",
       "    </tr>\n",
       "  </thead>\n",
       "  <tbody>\n",
       "    <tr>\n",
       "      <th>8</th>\n",
       "      <td>2020-02-24 18:00:00</td>\n",
       "      <td>ITA</td>\n",
       "      <td>4</td>\n",
       "      <td>P.A. Bolzano</td>\n",
       "      <td>21</td>\n",
       "      <td>Bolzano</td>\n",
       "      <td>BZ</td>\n",
       "      <td>46.499335</td>\n",
       "      <td>11.356624</td>\n",
       "      <td>0</td>\n",
       "      <td>2020-02-24 18:00:00</td>\n",
       "    </tr>\n",
       "    <tr>\n",
       "      <th>136</th>\n",
       "      <td>2020-02-25 18:00:00</td>\n",
       "      <td>ITA</td>\n",
       "      <td>4</td>\n",
       "      <td>P.A. Bolzano</td>\n",
       "      <td>21</td>\n",
       "      <td>Bolzano</td>\n",
       "      <td>BZ</td>\n",
       "      <td>46.499335</td>\n",
       "      <td>11.356624</td>\n",
       "      <td>1</td>\n",
       "      <td>2020-02-25 18:00:00</td>\n",
       "    </tr>\n",
       "    <tr>\n",
       "      <th>264</th>\n",
       "      <td>2020-02-26 18:00:00</td>\n",
       "      <td>ITA</td>\n",
       "      <td>4</td>\n",
       "      <td>P.A. Bolzano</td>\n",
       "      <td>21</td>\n",
       "      <td>Bolzano</td>\n",
       "      <td>BZ</td>\n",
       "      <td>46.499335</td>\n",
       "      <td>11.356624</td>\n",
       "      <td>1</td>\n",
       "      <td>2020-02-26 18:00:00</td>\n",
       "    </tr>\n",
       "    <tr>\n",
       "      <th>392</th>\n",
       "      <td>2020-02-27 18:00:00</td>\n",
       "      <td>ITA</td>\n",
       "      <td>4</td>\n",
       "      <td>P.A. Bolzano</td>\n",
       "      <td>21</td>\n",
       "      <td>Bolzano</td>\n",
       "      <td>BZ</td>\n",
       "      <td>46.499335</td>\n",
       "      <td>11.356624</td>\n",
       "      <td>1</td>\n",
       "      <td>2020-02-27 18:00:00</td>\n",
       "    </tr>\n",
       "    <tr>\n",
       "      <th>520</th>\n",
       "      <td>2020-02-28 18:00:00</td>\n",
       "      <td>ITA</td>\n",
       "      <td>4</td>\n",
       "      <td>P.A. Bolzano</td>\n",
       "      <td>21</td>\n",
       "      <td>Bolzano</td>\n",
       "      <td>BZ</td>\n",
       "      <td>46.499335</td>\n",
       "      <td>11.356624</td>\n",
       "      <td>1</td>\n",
       "      <td>2020-02-28 18:00:00</td>\n",
       "    </tr>\n",
       "  </tbody>\n",
       "</table>\n",
       "</div>"
      ],
      "text/plain": [
       "                    data stato  codice_regione denominazione_regione  \\\n",
       "8    2020-02-24 18:00:00   ITA               4          P.A. Bolzano   \n",
       "136  2020-02-25 18:00:00   ITA               4          P.A. Bolzano   \n",
       "264  2020-02-26 18:00:00   ITA               4          P.A. Bolzano   \n",
       "392  2020-02-27 18:00:00   ITA               4          P.A. Bolzano   \n",
       "520  2020-02-28 18:00:00   ITA               4          P.A. Bolzano   \n",
       "\n",
       "     codice_provincia denominazione_provincia sigla_provincia        lat  \\\n",
       "8                  21                 Bolzano              BZ  46.499335   \n",
       "136                21                 Bolzano              BZ  46.499335   \n",
       "264                21                 Bolzano              BZ  46.499335   \n",
       "392                21                 Bolzano              BZ  46.499335   \n",
       "520                21                 Bolzano              BZ  46.499335   \n",
       "\n",
       "          long  totale_casi                date  \n",
       "8    11.356624            0 2020-02-24 18:00:00  \n",
       "136  11.356624            1 2020-02-25 18:00:00  \n",
       "264  11.356624            1 2020-02-26 18:00:00  \n",
       "392  11.356624            1 2020-02-27 18:00:00  \n",
       "520  11.356624            1 2020-02-28 18:00:00  "
      ]
     },
     "execution_count": 3,
     "metadata": {},
     "output_type": "execute_result"
    }
   ],
   "source": [
    "df_bz = df[df[\"denominazione_provincia\"] == 'Bolzano']\n",
    "df_bz.head()"
   ]
  },
  {
   "cell_type": "markdown",
   "metadata": {},
   "source": [
    "## Plot the average cumulative cases per province in Italy"
   ]
  },
  {
   "cell_type": "code",
   "execution_count": 4,
   "metadata": {},
   "outputs": [
    {
     "data": {
      "image/png": "[encoded data removed]",
      "text/plain": [
       "<Figure size 720x360 with 1 Axes>"
      ]
     },
     "metadata": {
      "needs_background": "light"
     },
     "output_type": "display_data"
    }
   ],
   "source": [
    "plt.figure(figsize=(10,5))\n",
    "plot =sns.lineplot(df['date'], df['totale_casi'])\n",
    "x_dates = df['date'].dt.strftime('%d-%m').sort_values().unique()\n",
    "plot.set_xticklabels(x_dates, rotation=45)\n",
    "plot.set_title(\"Average Cumulative Cases in Italy per Province\")\n",
    "\n",
    "plt.show()"
   ]
  },
  {
   "cell_type": "markdown",
   "metadata": {},
   "source": [
    "##  Plot the total cumulative sum of cases in Italy"
   ]
  },
  {
   "cell_type": "code",
   "execution_count": 5,
   "metadata": {},
   "outputs": [],
   "source": [
    "total_cases_sum = df.groupby('date')['totale_casi'].sum()"
   ]
  },
  {
   "cell_type": "code",
   "execution_count": 6,
   "metadata": {},
   "outputs": [
    {
     "data": {
      "image/png": "[encoded data removed]",
      "text/plain": [
       "<Figure size 720x360 with 1 Axes>"
      ]
     },
     "metadata": {
      "needs_background": "light"
     },
     "output_type": "display_data"
    }
   ],
   "source": [
    "plt.figure(figsize=(10,5))\n",
    "dates = np.array(total_cases_sum.index.to_pydatetime(), dtype=np.datetime64)\n",
    "plot = sns.lineplot(dates, total_cases_sum)\n",
    "x_dates = total_cases_sum.index.strftime('%d-%m')\n",
    "plot.set_xticklabels(x_dates, rotation=45)\n",
    "plot.set_title(\"Cumulative Cases in Italy\")\n",
    "plt.show()\n"
   ]
  },
  {
   "cell_type": "markdown",
   "metadata": {},
   "source": [
    "## Province Bolzano "
   ]
  },
  {
   "cell_type": "code",
   "execution_count": 7,
   "metadata": {},
   "outputs": [
    {
     "data": {
      "image/png": "[encoded data removed]",
      "text/plain": [
       "<Figure size 720x360 with 1 Axes>"
      ]
     },
     "metadata": {
      "needs_background": "light"
     },
     "output_type": "display_data"
    }
   ],
   "source": [
    "plt.figure(figsize=(10,5))\n",
    "plot = sns.lineplot(df_bz['date'], df_bz['totale_casi'])\n",
    "x_dates = df['date'].dt.strftime('%d-%m').sort_values().unique()\n",
    "plot.set_xticklabels(x_dates, rotation=45)\n",
    "plot.set_title(\"Cumulative Cases in Province BZ\")\n",
    "plt.show()\n"
   ]
  },
  {
   "cell_type": "markdown",
   "metadata": {},
   "source": [
    "## New cases every day in Province Bolzano"
   ]
  },
  {
   "cell_type": "code",
   "execution_count": 8,
   "metadata": {},
   "outputs": [
    {
     "data": {
      "text/plain": [
       "Text(0.5, 1.0, 'New Cases Every Day in Province BZ')"
      ]
     },
     "execution_count": 8,
     "metadata": {},
     "output_type": "execute_result"
    },
    {
     "data": {
      "image/png": "[encoded data removed]",
      "text/plain": [
       "<Figure size 720x432 with 1 Axes>"
      ]
     },
     "metadata": {
      "needs_background": "light"
     },
     "output_type": "display_data"
    }
   ],
   "source": [
    "cases_of_day = []\n",
    "cases_before = 0\n",
    "for index, row in df_bz.iterrows():\n",
    "    cases_of_day.append(row[9] - cases_before)\n",
    "    cases_before = row[9]\n",
    "df_cases = df_bz.copy()\n",
    "df_cases['cases_day'] = cases_of_day\n",
    "fig, ax = plt.subplots(figsize=(10,6))\n",
    "plot = sns.barplot(df_cases['date'], df_cases['cases_day'], palette=\"Blues\")\n",
    "x_dates = df_cases['date'].dt.strftime('%d-%m').unique()\n",
    "plot.set_xticklabels(x_dates, rotation=45)\n",
    "plot.set_title(\"New Cases Every Day in Province BZ\")"
   ]
  },
  {
   "cell_type": "markdown",
   "metadata": {},
   "source": [
    "## Predicting cumulative cases in Province Bolzano\n",
    "We're going to use linear regression to predict the number of deaths for the next week. The growth is exponential, therefore we create a new column with the log of the infections, which we use to predict further cases."
   ]
  },
  {
   "cell_type": "code",
   "execution_count": 9,
   "metadata": {},
   "outputs": [
    {
     "data": {
      "text/html": [
       "<div>\n",
       "<style scoped>\n",
       "    .dataframe tbody tr th:only-of-type {\n",
       "        vertical-align: middle;\n",
       "    }\n",
       "\n",
       "    .dataframe tbody tr th {\n",
       "        vertical-align: top;\n",
       "    }\n",
       "\n",
       "    .dataframe thead th {\n",
       "        text-align: right;\n",
       "    }\n",
       "</style>\n",
       "<table border=\"1\" class=\"dataframe\">\n",
       "  <thead>\n",
       "    <tr style=\"text-align: right;\">\n",
       "      <th></th>\n",
       "      <th>date</th>\n",
       "      <th>days</th>\n",
       "      <th>infections</th>\n",
       "      <th>log_infections</th>\n",
       "    </tr>\n",
       "  </thead>\n",
       "  <tbody>\n",
       "    <tr>\n",
       "      <th>136</th>\n",
       "      <td>2020-02-25 18:00:00</td>\n",
       "      <td>1</td>\n",
       "      <td>1</td>\n",
       "      <td>0.0</td>\n",
       "    </tr>\n",
       "    <tr>\n",
       "      <th>264</th>\n",
       "      <td>2020-02-26 18:00:00</td>\n",
       "      <td>2</td>\n",
       "      <td>1</td>\n",
       "      <td>0.0</td>\n",
       "    </tr>\n",
       "    <tr>\n",
       "      <th>392</th>\n",
       "      <td>2020-02-27 18:00:00</td>\n",
       "      <td>3</td>\n",
       "      <td>1</td>\n",
       "      <td>0.0</td>\n",
       "    </tr>\n",
       "    <tr>\n",
       "      <th>520</th>\n",
       "      <td>2020-02-28 18:00:00</td>\n",
       "      <td>4</td>\n",
       "      <td>1</td>\n",
       "      <td>0.0</td>\n",
       "    </tr>\n",
       "    <tr>\n",
       "      <th>648</th>\n",
       "      <td>2020-02-29 17:00:00</td>\n",
       "      <td>5</td>\n",
       "      <td>1</td>\n",
       "      <td>0.0</td>\n",
       "    </tr>\n",
       "  </tbody>\n",
       "</table>\n",
       "</div>"
      ],
      "text/plain": [
       "                   date  days  infections  log_infections\n",
       "136 2020-02-25 18:00:00     1           1             0.0\n",
       "264 2020-02-26 18:00:00     2           1             0.0\n",
       "392 2020-02-27 18:00:00     3           1             0.0\n",
       "520 2020-02-28 18:00:00     4           1             0.0\n",
       "648 2020-02-29 17:00:00     5           1             0.0"
      ]
     },
     "execution_count": 9,
     "metadata": {},
     "output_type": "execute_result"
    }
   ],
   "source": [
    "\n",
    "import statsmodels.api as sm\n",
    "# we will predict 2 days into the future\n",
    "DAY_RANGE = range(1,df_bz.shape[0] + 2)\n",
    "\n",
    "# create new DF with total cases and augment with log_infections and days since first case\n",
    "df2 = pd.DataFrame()\n",
    "days = [i for i in range(df_bz.shape[0])]\n",
    "df2['date'] = df_bz['date']\n",
    "df2['days'] = days\n",
    "df2['infections'] = df_bz['totale_casi']\n",
    "df2 = df2[df2.infections > 0]\n",
    "df2['log_infections'] = np.log(df2['infections'])\n",
    "df2.head()"
   ]
  },
  {
   "cell_type": "markdown",
   "metadata": {},
   "source": [
    "Create a model using the days sice the first case and the log of the total infected count."
   ]
  },
  {
   "cell_type": "code",
   "execution_count": 10,
   "metadata": {},
   "outputs": [],
   "source": [
    "X = df2.days\n",
    "X = sm.add_constant(X)\n",
    "y = df2.log_infections"
   ]
  },
  {
   "cell_type": "code",
   "execution_count": 11,
   "metadata": {},
   "outputs": [],
   "source": [
    "model = sm.OLS(y, X)\n",
    "res = model.fit()"
   ]
  },
  {
   "cell_type": "markdown",
   "metadata": {},
   "source": [
    "We use the params of the fitted model to predict the growth:"
   ]
  },
  {
   "cell_type": "code",
   "execution_count": 12,
   "metadata": {},
   "outputs": [],
   "source": [
    "a = res.params.const\n",
    "b = res.params.days\n",
    "y_pred = [np.exp(a+b*x) for x in DAY_RANGE]"
   ]
  },
  {
   "cell_type": "markdown",
   "metadata": {},
   "source": [
    "Here we will do the same thing, but instead of fitting the model on the whole data, we will just use the past 4 days to get a recent trend of how the epidemic is evolving"
   ]
  },
  {
   "cell_type": "code",
   "execution_count": 13,
   "metadata": {},
   "outputs": [],
   "source": [
    "df3 = df2[df2.days > df_bz.shape[0] - 5]\n",
    "X = df3.days\n",
    "X = sm.add_constant(X)\n",
    "y = df3.log_infections\n",
    "model = sm.OLS(y, X)\n",
    "res = model.fit()"
   ]
  },
  {
   "cell_type": "code",
   "execution_count": 14,
   "metadata": {},
   "outputs": [],
   "source": [
    "a = res.params.const\n",
    "b = res.params.days\n",
    "x_pred_last_four_days =[np.exp(a+b*x) for x in DAY_RANGE]"
   ]
  },
  {
   "cell_type": "markdown",
   "metadata": {},
   "source": [
    "Same thing again, but now with just 2 days"
   ]
  },
  {
   "cell_type": "code",
   "execution_count": 15,
   "metadata": {},
   "outputs": [],
   "source": [
    "df4 = df2[df2.days > df_bz.shape[0] - 5]\n",
    "X = df4.days\n",
    "X = sm.add_constant(X)\n",
    "y = df4.log_infections\n",
    "model = sm.OLS(y, X)\n",
    "res = model.fit()"
   ]
  },
  {
   "cell_type": "code",
   "execution_count": 16,
   "metadata": {},
   "outputs": [],
   "source": [
    "a = res.params.const\n",
    "b = res.params.days\n",
    "x_pred_last_two_days =[np.exp(a+b*x) for x in DAY_RANGE]\n"
   ]
  },
  {
   "cell_type": "code",
   "execution_count": 17,
   "metadata": {},
   "outputs": [
    {
     "data": {
      "text/plain": [
       "Text(0.5, 1.0, 'Cumulative Cases in Province BZ')"
      ]
     },
     "execution_count": 17,
     "metadata": {},
     "output_type": "execute_result"
    },
    {
     "data": {
      "image/png": "[encoded data removed]",
      "text/plain": [
       "<Figure size 720x360 with 1 Axes>"
      ]
     },
     "metadata": {
      "needs_background": "light"
     },
     "output_type": "display_data"
    }
   ],
   "source": [
    "plt.figure(figsize=(10,5))\n",
    "\n",
    "plot = sns.lineplot(DAY_RANGE, y_pred, label=\"Sim. Infections\")\n",
    "plot = sns.lineplot(DAY_RANGE, x_pred_last_four_days, label=\"Sim. Infections (Based on last 4 days)\")\n",
    "plot = sns.lineplot(DAY_RANGE, x_pred_last_two_days, label=\"Sim. Infections (Based on Last 2 days)\")\n",
    "plot = sns.lineplot(days, df_bz['totale_casi'], label=\"Confirmed Cases\")\n",
    "\n",
    "plt.ylabel('Cases', fontsize=14)\n",
    "plt.xlabel('Days since first case', fontsize=14)\n",
    "\n",
    "\n",
    "plot.set_title(\"Cumulative Cases in Province BZ\")"
   ]
  }
 ],
 "metadata": {
  "kernelspec": {
   "display_name": "Python 3",
   "language": "python",
   "name": "python3"
  },
  "language_info": {
   "codemirror_mode": {
    "name": "ipython",
    "version": 3
   },
   "file_extension": ".py",
   "mimetype": "text/x-python",
   "name": "python",
   "nbconvert_exporter": "python",
   "pygments_lexer": "ipython3",
   "version": "3.8.2"
  }
 },
 "nbformat": 4,
 "nbformat_minor": 2
}
